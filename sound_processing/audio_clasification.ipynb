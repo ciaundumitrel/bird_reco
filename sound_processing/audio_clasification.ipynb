{
 "cells": [
  {
   "cell_type": "code",
   "execution_count": 1,
   "id": "initial_id",
   "metadata": {
    "collapsed": true,
    "ExecuteTime": {
     "end_time": "2024-05-25T03:25:30.542255300Z",
     "start_time": "2024-05-25T03:25:23.774188300Z"
    }
   },
   "outputs": [],
   "source": [
    "import os\n",
    "\n",
    "from matplotlib import pyplot as plt\n",
    "import tensorflow as tf \n",
    "import tensorflow_io as tfio\n",
    "\n"
   ]
  },
  {
   "cell_type": "code",
   "execution_count": 94,
   "outputs": [],
   "source": [
    "\n",
    "def load_wav_16k_mono(filename):\n",
    "    # Load encoded wav file\n",
    "    file_contents = tf.io.read_file(filename)\n",
    "    # Decode wav (tensors by channels) \n",
    "    wav, sample_rate = tf.audio.decode_wav(file_contents, desired_channels=1, desired_samples=48000)\n",
    "    # Removes trailing axis\n",
    "    wav = tf.squeeze(wav, axis=-1)\n",
    "    sample_rate = tf.cast(sample_rate, dtype=tf.int64)\n",
    "    # Goes from 44100Hz to 16000hz - amplitude of the audio signal\n",
    "    wav = tfio.audio.resample(wav, rate_in=sample_rate, rate_out=16000)\n",
    "    return wav"
   ],
   "metadata": {
    "collapsed": false,
    "ExecuteTime": {
     "end_time": "2024-05-25T07:25:11.293183500Z",
     "start_time": "2024-05-25T07:25:11.264690200Z"
    }
   },
   "id": "fc85601658bb1465"
  },
  {
   "cell_type": "code",
   "execution_count": 95,
   "outputs": [],
   "source": [
    "file = r\"C:\\dumi\\bird_reco\\sounds\\recordings\\sound_.wav\"\n",
    "\n",
    "wave = load_wav_16k_mono(file)"
   ],
   "metadata": {
    "collapsed": false,
    "ExecuteTime": {
     "end_time": "2024-05-25T07:25:11.982838300Z",
     "start_time": "2024-05-25T07:25:11.900300300Z"
    }
   },
   "id": "b981e41b03a725ad"
  },
  {
   "cell_type": "markdown",
   "source": [],
   "metadata": {
    "collapsed": false
   },
   "id": "147de14ebaf96d2d"
  },
  {
   "cell_type": "code",
   "execution_count": 96,
   "outputs": [
    {
     "data": {
      "text/plain": "<Figure size 640x480 with 1 Axes>",
      "image/png": "[encoded data removed]"
     },
     "metadata": {},
     "output_type": "display_data"
    }
   ],
   "source": [
    "plt.plot(wave)\n",
    "plt.show()\n"
   ],
   "metadata": {
    "collapsed": false,
    "ExecuteTime": {
     "end_time": "2024-05-25T07:25:13.548496600Z",
     "start_time": "2024-05-25T07:25:13.305890600Z"
    }
   },
   "id": "fe83d657e6516e94"
  },
  {
   "cell_type": "code",
   "execution_count": 97,
   "outputs": [],
   "source": [
    "house_sparrows_dir = os.path.join('..', 'sounds', 'House Sparrow', 'splits')\n",
    "common_buzzard_dir = os.path.join('..', 'sounds', 'Common Buzzard', 'splits')\n",
    "\n",
    "house_sparrows = tf.data.Dataset.list_files(house_sparrows_dir + \"\\*.wav\")\n",
    "common_buzzard = tf.data.Dataset.list_files(common_buzzard_dir + \"\\*.wav\")\n",
    "\n",
    "sparrows = tf.data.Dataset.zip((house_sparrows, tf.data.Dataset.from_tensor_slices(tf.ones(len(house_sparrows)))))\n",
    "buzzards = tf.data.Dataset.zip((house_sparrows, tf.data.Dataset.from_tensor_slices(tf.zeros(len(common_buzzard)))))\n",
    "data = sparrows.concatenate(buzzards)\n"
   ],
   "metadata": {
    "collapsed": false,
    "ExecuteTime": {
     "end_time": "2024-05-25T07:25:17.728272600Z",
     "start_time": "2024-05-25T07:25:17.572741700Z"
    }
   },
   "id": "d5b6707952262ecd"
  },
  {
   "cell_type": "code",
   "execution_count": 98,
   "outputs": [
    {
     "data": {
      "text/plain": "2147"
     },
     "execution_count": 98,
     "metadata": {},
     "output_type": "execute_result"
    }
   ],
   "source": [
    "sparrows.as_numpy_iterator().next()\n",
    "len(sparrows)"
   ],
   "metadata": {
    "collapsed": false,
    "ExecuteTime": {
     "end_time": "2024-05-25T07:25:19.022689200Z",
     "start_time": "2024-05-25T07:25:18.980686900Z"
    }
   },
   "id": "be8a1c120955753"
  },
  {
   "cell_type": "code",
   "execution_count": 99,
   "outputs": [
    {
     "name": "stdout",
     "output_type": "stream",
     "text": [
      "done\n"
     ]
    }
   ],
   "source": [
    "lengths = []\n",
    "skipped = 0\n",
    "\n",
    "for file in os.listdir(house_sparrows_dir):\n",
    "    try:\n",
    "        tensor_wave = load_wav_16k_mono(os.path.join(house_sparrows_dir, file))\n",
    "        lengths.append(len(tensor_wave))\n",
    "    except Exception as e:\n",
    "        skipped += 1\n",
    "        print(file)\n",
    "        pass\n",
    "print(\"done\")"
   ],
   "metadata": {
    "collapsed": false,
    "ExecuteTime": {
     "end_time": "2024-05-25T07:27:13.537454100Z",
     "start_time": "2024-05-25T07:25:19.956505400Z"
    }
   },
   "id": "c1e5c0b84fcaa5a1"
  },
  {
   "cell_type": "code",
   "execution_count": 8,
   "outputs": [
    {
     "data": {
      "text/plain": "[17414,\n 17414,\n 17414,\n 17414,\n 17414,\n 17414,\n 17414,\n 17414,\n 17414,\n 17414,\n 17414,\n 17414,\n 17414,\n 17414,\n 17414,\n 17414,\n 17414,\n 17414,\n 17414,\n 17414,\n 17414,\n 17414,\n 17414,\n 17414,\n 17414,\n 17414,\n 17414,\n 17414,\n 17414,\n 17414,\n 17414,\n 17414,\n 17414,\n 17414,\n 17414,\n 17414,\n 17414,\n 17414,\n 17414,\n 17414,\n 17414,\n 17414,\n 17414,\n 17414,\n 17414,\n 17414,\n 17414,\n 17414,\n 17414,\n 17414,\n 17414,\n 17414,\n 17414,\n 17414,\n 17414,\n 17414,\n 17414,\n 17414,\n 17414,\n 17414,\n 16000,\n 16000,\n 16000,\n 16000,\n 16000,\n 16000,\n 16000,\n 16000,\n 16000,\n 17414,\n 16000,\n 16000,\n 16000,\n 16000,\n 16000,\n 16000,\n 16000,\n 16000,\n 16000,\n 16000,\n 17414,\n 16000,\n 16000,\n 16000,\n 16000,\n 16000,\n 16000,\n 16000,\n 16000,\n 16000,\n 16000,\n 17414,\n 16000,\n 16000,\n 16000,\n 16000,\n 16000,\n 16000,\n 17414,\n 17414,\n 17414,\n 17414,\n 17414,\n 17414,\n 17414,\n 17414,\n 17414,\n 17414,\n 17414,\n 17414,\n 17414,\n 17414,\n 17414,\n 17414,\n 17414,\n 17414,\n 17414,\n 17414,\n 16000,\n 24000,\n 24000,\n 17414,\n 17414,\n 17414,\n 17414,\n 17414,\n 17414,\n 17414,\n 17414,\n 17414,\n 17414,\n 17414,\n 17414,\n 17414,\n 17414,\n 17414,\n 17414,\n 17414,\n 17414,\n 17414,\n 17414,\n 17414,\n 17414,\n 17414,\n 17414,\n 17414,\n 17414,\n 17414,\n 17414,\n 17414,\n 17414,\n 17414,\n 17414,\n 17414,\n 17414,\n 17414,\n 17414,\n 17414,\n 17414,\n 17414,\n 17414,\n 17414,\n 17414,\n 17414,\n 17414,\n 17414,\n 17414,\n 17414,\n 17414,\n 17414,\n 17414,\n 17414,\n 17414,\n 17414,\n 17414,\n 17414,\n 17414,\n 17414,\n 17414,\n 17414,\n 17414,\n 17414,\n 17414,\n 17414,\n 17414,\n 17414,\n 17414,\n 17414,\n 17414,\n 17414,\n 17414,\n 17414,\n 17414,\n 17414,\n 17414,\n 17414,\n 17414,\n 17414,\n 17414,\n 17414,\n 17414,\n 17414,\n 17414,\n 17414,\n 17414,\n 17414,\n 17414,\n 17414,\n 17414,\n 17414,\n 17414,\n 17414,\n 17414,\n 17414,\n 17414,\n 17414,\n 17414,\n 17414,\n 17414,\n 17414,\n 17414,\n 17414,\n 17414,\n 17414,\n 17414,\n 17414,\n 17414,\n 17414,\n 17414,\n 17414,\n 17414,\n 17414,\n 17414,\n 17414,\n 17414,\n 17414,\n 17414,\n 17414,\n 17414,\n 17414,\n 17414,\n 17414,\n 17414,\n 17414,\n 17414,\n 17414,\n 17414,\n 17414,\n 17414,\n 17414,\n 17414,\n 17414,\n 17414,\n 17414,\n 17414,\n 17414,\n 17414,\n 17414,\n 17414,\n 17414,\n 17414,\n 17414,\n 17414,\n 17414,\n 17414,\n 17414,\n 17414,\n 17414,\n 17414,\n 17414,\n 17414,\n 17414,\n 17414,\n 17414,\n 17414,\n 17414,\n 17414,\n 17414,\n 17414,\n 17414,\n 17414,\n 17414,\n 17414,\n 17414,\n 17414,\n 17414,\n 17414,\n 17414,\n 17414,\n 17414,\n 17414,\n 17414,\n 17414,\n 17414,\n 17414,\n 17414,\n 17414,\n 17414,\n 17414,\n 17414,\n 16000,\n 17414,\n 17414,\n 17414,\n 17414,\n 17414,\n 17414,\n 17414,\n 17414,\n 17414,\n 17414,\n 17414,\n 17414,\n 17414,\n 17414,\n 17414,\n 17414,\n 17414,\n 17414,\n 17414,\n 17414,\n 17414,\n 17414,\n 17414,\n 17414,\n 17414,\n 17414,\n 17414,\n 17414,\n 17414,\n 17414,\n 17414,\n 17414,\n 17414,\n 17414,\n 17414,\n 17414,\n 16000,\n 16000,\n 16000,\n 16000,\n 16000,\n 16000,\n 16000,\n 16000,\n 17414,\n 16000,\n 16000,\n 16000,\n 16000,\n 16000,\n 16000,\n 16000,\n 16000,\n 16000,\n 16000,\n 17414,\n 16000,\n 16000,\n 16000,\n 16000,\n 16000,\n 16000,\n 16000,\n 16000,\n 16000,\n 16000,\n 17414,\n 16000,\n 16000,\n 16000,\n 16000,\n 16000,\n 16000,\n 16000,\n 16000,\n 16000,\n 16000,\n 17414,\n 16000,\n 16000,\n 16000,\n 16000,\n 16000,\n 16000,\n 16000,\n 16000,\n 16000,\n 16000,\n 17414,\n 16000,\n 16000,\n 16000,\n 16000,\n 16000,\n 16000,\n 16000,\n 16000,\n 16000,\n 16000,\n 16000,\n 16000,\n 16000,\n 16000,\n 16000,\n 16000,\n 17414,\n 17414,\n 16000,\n 16000,\n 16000,\n 17414,\n 16000,\n 16000,\n 16000,\n 16000,\n 16000,\n 16000,\n 16000,\n 16000,\n 16000,\n 16000,\n 17414,\n 16000,\n 16000,\n 16000,\n 16000,\n 16000,\n 16000,\n 16000,\n 16000,\n 16000,\n 16000,\n 17414,\n 16000,\n 16000,\n 16000,\n 16000,\n 16000,\n 16000,\n 16000,\n 16000,\n 16000,\n 16000,\n 17414,\n 17414,\n 16000,\n 16000,\n 16000,\n 16000,\n 16000,\n 16000,\n 16000,\n 16000,\n 16000,\n 16000,\n 17414,\n 16000,\n 16000,\n 16000,\n 16000,\n 16000,\n 16000,\n 16000,\n 16000,\n 16000,\n 16000,\n 17414,\n 16000,\n 16000,\n 16000,\n 16000,\n 16000,\n 16000,\n 16000,\n 16000,\n 16000,\n 16000,\n 17414,\n 16000,\n 16000,\n 16000,\n 16000,\n 16000,\n 16000,\n 16000,\n 16000,\n 16000,\n 16000,\n 17414,\n 16000,\n 16000,\n 16000,\n 16000,\n 16000,\n 16000,\n 16000,\n 16000,\n 16000,\n 16000,\n 17414,\n 16000,\n 16000,\n 16000,\n 16000,\n 16000,\n 16000,\n 16000,\n 16000,\n 16000,\n 16000,\n 16000,\n 16000,\n 16000,\n 17414,\n 17414,\n 17414,\n 17414,\n 17414,\n 17414,\n 17414,\n 17414,\n 17414,\n 17414,\n 17414,\n 17414,\n 17414,\n 17414,\n 17414,\n 17414,\n 17414,\n 17414,\n 17414,\n 17414,\n 17414,\n 17414,\n 17414,\n 17414,\n 17414,\n 17414,\n 17414,\n 17414,\n 17414,\n 17414,\n 17414,\n 16000,\n 16000,\n 16000,\n 16000,\n 16000,\n 16000,\n 16000,\n 16000,\n 17414,\n 17414,\n 16000,\n 16000,\n 16000,\n 16000,\n 16000,\n 16000,\n 16000,\n 16000,\n 16000,\n 16000,\n 17414,\n 16000,\n 16000,\n 16000,\n 16000,\n 16000,\n 16000,\n 16000,\n 16000,\n 16000,\n 16000,\n 17414,\n 16000,\n 16000,\n 16000,\n 16000,\n 16000,\n 16000,\n 16000,\n 16000,\n 16000,\n 16000,\n 17414,\n 16000,\n 16000,\n 16000,\n 16000,\n 16000,\n 16000,\n 16000,\n 16000,\n 16000,\n 16000,\n 17414,\n 16000,\n 16000,\n 16000,\n 16000,\n 16000,\n 16000,\n 16000,\n 16000,\n 16000,\n 16000,\n 17414,\n 16000,\n 16000,\n 16000,\n 16000,\n 16000,\n 16000,\n 16000,\n 17414,\n 17414,\n 17414,\n 17414,\n 16000,\n 16000,\n 16000,\n 16000,\n 16000,\n 16000,\n 16000,\n 16000,\n 16000,\n 16000,\n 17414,\n 16000,\n 16000,\n 16000,\n 16000,\n 16000,\n 16000,\n 16000,\n 16000,\n 16000,\n 16000,\n 17414,\n 16000,\n 16000,\n 16000,\n 16000,\n 16000,\n 16000,\n 16000,\n 16000,\n 16000,\n 16000,\n 17414,\n 17414,\n 34829,\n 17414,\n 17414,\n 17414,\n 17414,\n 17414,\n 17414,\n 17414,\n 17414,\n 17414,\n 17414,\n 17414,\n 17414,\n 17414,\n 17414,\n 17414,\n 17414,\n 17414,\n 17414,\n 17414,\n 16000,\n 17414,\n 16000,\n 16000,\n 16000,\n 16000,\n 16000,\n 16000,\n 16000,\n 16000,\n 16000,\n 16000,\n 17414,\n 16000,\n 16000,\n 16000,\n 16000,\n 16000,\n 16000,\n 16000,\n 16000,\n 24000,\n 16000,\n 17414,\n 16000,\n 16000,\n 16000,\n 16000,\n 16000,\n 16000,\n 16000,\n 16000,\n 16000,\n 16000,\n 17414,\n 16000,\n 16000,\n 16000,\n 16000,\n 16000,\n 16000,\n 16000,\n 16000,\n 16000,\n 16000,\n 17414,\n 16000,\n 16000,\n 16000,\n 16000,\n 16000,\n 16000,\n 16000,\n 16000,\n 16000,\n 16000,\n 17414,\n 16000,\n 16000,\n 16000,\n 16000,\n 16000,\n 16000,\n 16000,\n 17414,\n 17414,\n 17414,\n 17414,\n 17414,\n 17414,\n 17414,\n 17414,\n 17414,\n 17414,\n 17414,\n 17414,\n 17414,\n 17414,\n 17414,\n 17414,\n 17414,\n 17414,\n 17414,\n 17414,\n 17414,\n 17414,\n 17414,\n 17414,\n 17414,\n 17414,\n 17414,\n 17414,\n 17414,\n 17414,\n 17414,\n 17414,\n 17414,\n 17414,\n 17414,\n 17414,\n 17414,\n 17414,\n 17414,\n 17414,\n 17414,\n 17414,\n 17414,\n 17414,\n 17414,\n 17414,\n 17414,\n 17414,\n 17414,\n 17414,\n 17414,\n 17414,\n 17414,\n 17414,\n 17414,\n 17414,\n 17414,\n 17414,\n 17414,\n 17414,\n 17414,\n 17414,\n 17414,\n 17414,\n 17414,\n 17414,\n 17414,\n 17414,\n 17414,\n 17414,\n 17414,\n 17414,\n 17414,\n 17414,\n 17414,\n 17414,\n 17414,\n 17414,\n 17414,\n 17414,\n 17414,\n 17414,\n 17414,\n 17414,\n 17414,\n 17414,\n 17414,\n 17414,\n 17414,\n 17414,\n 17414,\n 17414,\n 17414,\n 17414,\n 17414,\n 17414,\n 17414,\n 17414,\n 17414,\n 17414,\n 17414,\n 17414,\n 17414,\n 17414,\n 17414,\n 17414,\n 17414,\n 17414,\n 17414,\n 17414,\n 17414,\n 17414,\n 17414,\n 17414,\n 17414,\n 17414,\n 17414,\n 17414,\n 17414,\n 17414,\n 17414,\n 17414,\n 17414,\n 17414,\n 17414,\n 17414,\n 17414,\n 17414,\n 17414,\n 17414,\n 17414,\n 17414,\n 17414,\n 17414,\n 17414,\n 17414,\n 17414,\n 17414,\n 17414,\n 17414,\n 17414,\n 17414,\n 17414,\n 17414,\n 17414,\n 17414,\n 17414,\n 17414,\n 17414,\n 17414,\n 17414,\n 17414,\n 17414,\n 17414,\n 17414,\n 17414,\n 17414,\n 17414,\n 17414,\n 17414,\n 17414,\n 17414,\n 17414,\n 17414,\n 17414,\n 17414,\n 17414,\n 17414,\n 17414,\n 17414,\n 17414,\n 17414,\n 17414,\n 17414,\n 17414,\n 17414,\n 17414,\n 17414,\n 17414,\n 17414,\n 17414,\n 17414,\n 17414,\n 17414,\n 17414,\n 17414,\n 17414,\n 17414,\n 17414,\n 17414,\n 17414,\n 17414,\n 17414,\n 17414,\n 17414,\n 17414,\n 17414,\n 17414,\n 17414,\n 17414,\n 17414,\n 17414,\n 17414,\n 17414,\n 17414,\n 17414,\n 17414,\n 17414,\n 17414,\n 17414,\n 17414,\n 17414,\n 17414,\n 17414,\n 17414,\n 17414,\n 17414,\n 17414,\n 17414,\n 17414,\n 17414,\n 17414,\n 17414,\n 17414,\n 17414,\n 17414,\n 17414,\n 17414,\n 17414,\n 17414,\n 17414,\n 17414,\n 17414,\n 17414,\n 17414,\n 17414,\n 17414,\n 17414,\n 17414,\n 17414,\n 17414,\n 17414,\n 17414,\n 17414,\n 17414,\n 17414,\n 17414,\n 16000,\n 17414,\n 17414,\n 17414,\n 17414,\n 17414,\n 17414,\n 17414,\n 17414,\n 17414,\n 17414,\n 17414,\n 16000,\n 17414,\n ...]"
     },
     "execution_count": 8,
     "metadata": {},
     "output_type": "execute_result"
    }
   ],
   "source": [
    "lengths"
   ],
   "metadata": {
    "collapsed": false,
    "ExecuteTime": {
     "end_time": "2024-05-25T03:27:14.009104600Z",
     "start_time": "2024-05-25T03:27:13.977116Z"
    }
   },
   "id": "408172ff9014a1dd"
  },
  {
   "cell_type": "code",
   "execution_count": 9,
   "outputs": [
    {
     "data": {
      "text/plain": "<tf.Tensor: shape=(), dtype=int32, numpy=16000>"
     },
     "execution_count": 9,
     "metadata": {},
     "output_type": "execute_result"
    }
   ],
   "source": [
    "tf.math.reduce_mean(lengths)\n",
    "tf.math.reduce_min(lengths)\n"
   ],
   "metadata": {
    "collapsed": false,
    "ExecuteTime": {
     "end_time": "2024-05-25T03:27:14.093106600Z",
     "start_time": "2024-05-25T03:27:13.997097700Z"
    }
   },
   "id": "13686e384edbf339"
  },
  {
   "cell_type": "code",
   "execution_count": 10,
   "outputs": [],
   "source": [
    "def preprocess(file_path, label):\n",
    "    wav = load_wav_16k_mono(file_path)\n",
    "    wav = wav[:48000]\n",
    "    zero_padding = tf.zeros([48000] - tf.shape(wav), dtype=tf.float32)\n",
    "    wav = tf.concat([zero_padding, wav], 0)\n",
    "    spectrogram = tf.signal.stft(wav, frame_length=320, frame_step=32)\n",
    "    spectrogram = tf.abs(spectrogram)\n",
    "    spectrogram = tf.expand_dims(spectrogram, axis=2)\n",
    "    return spectrogram, label\n",
    "    "
   ],
   "metadata": {
    "collapsed": false,
    "ExecuteTime": {
     "end_time": "2024-05-25T03:27:14.111103200Z",
     "start_time": "2024-05-25T03:27:14.035104800Z"
    }
   },
   "id": "8c7bf4847dac82c9"
  },
  {
   "cell_type": "code",
   "execution_count": 11,
   "outputs": [],
   "source": [
    "\n",
    "filepath, label = sparrows.shuffle(buffer_size=10000).as_numpy_iterator().next()"
   ],
   "metadata": {
    "collapsed": false,
    "ExecuteTime": {
     "end_time": "2024-05-25T03:27:14.165099800Z",
     "start_time": "2024-05-25T03:27:14.045098400Z"
    }
   },
   "id": "5c38a80782948b8c"
  },
  {
   "cell_type": "code",
   "execution_count": 12,
   "outputs": [],
   "source": [
    "spectrogram, label = preprocess(filepath, label)"
   ],
   "metadata": {
    "collapsed": false,
    "ExecuteTime": {
     "end_time": "2024-05-25T03:27:14.247101Z",
     "start_time": "2024-05-25T03:27:14.078105800Z"
    }
   },
   "id": "bb91974463219e63"
  },
  {
   "cell_type": "code",
   "execution_count": 13,
   "outputs": [
    {
     "data": {
      "text/plain": "<Figure size 3000x2000 with 1 Axes>",
      "image/png": "[encoded data removed]"
     },
     "metadata": {},
     "output_type": "display_data"
    }
   ],
   "source": [
    "plt.figure(figsize=(30,20))\n",
    "plt.imshow(tf.transpose(spectrogram)[0])\n",
    "plt.show()"
   ],
   "metadata": {
    "collapsed": false,
    "ExecuteTime": {
     "end_time": "2024-05-25T03:27:14.636415800Z",
     "start_time": "2024-05-25T03:27:14.253102400Z"
    }
   },
   "id": "6695eb58f213e33"
  },
  {
   "cell_type": "code",
   "execution_count": 14,
   "outputs": [
    {
     "name": "stdout",
     "output_type": "stream",
     "text": [
      "WARNING:tensorflow:From C:\\dumi\\bird_reco\\.venv\\lib\\site-packages\\tensorflow\\python\\autograph\\pyct\\static_analysis\\liveness.py:83: Analyzer.lamba_check (from tensorflow.python.autograph.pyct.static_analysis.liveness) is deprecated and will be removed after 2023-09-23.\n",
      "Instructions for updating:\n",
      "Lambda fuctions will be no more assumed to be used in the statement where they are used, or at least in the same block. https://github.com/tensorflow/tensorflow/issues/56089\n",
      "WARNING:tensorflow:Using a while_loop for converting IO>AudioResample cause there is no registered converter for this op.\n"
     ]
    },
    {
     "data": {
      "text/plain": "<PrefetchDataset element_spec=(TensorSpec(shape=<unknown>, dtype=tf.float32, name=None), TensorSpec(shape=(None,), dtype=tf.float32, name=None))>"
     },
     "execution_count": 14,
     "metadata": {},
     "output_type": "execute_result"
    }
   ],
   "source": [
    "data = positives.map(preprocess)\n",
    "data = data.cache()\n",
    "data = data.shuffle(buffer_size=1000)\n",
    "data = data.batch(16)\n",
    "data = data.prefetch(8)\n",
    "data"
   ],
   "metadata": {
    "collapsed": false,
    "ExecuteTime": {
     "end_time": "2024-05-25T03:27:15.544425Z",
     "start_time": "2024-05-25T03:27:14.632420900Z"
    }
   },
   "id": "964010e847c3c87b"
  },
  {
   "cell_type": "code",
   "execution_count": 15,
   "outputs": [],
   "source": [
    "train = data.take(36)\n",
    "test = data.skip(36).take(15)\n"
   ],
   "metadata": {
    "collapsed": false,
    "ExecuteTime": {
     "end_time": "2024-05-25T03:27:15.587422400Z",
     "start_time": "2024-05-25T03:27:15.539415200Z"
    }
   },
   "id": "36f2e6bd26187eb9"
  },
  {
   "cell_type": "code",
   "execution_count": 16,
   "outputs": [],
   "source": [
    "samples, labels = train.as_numpy_iterator().next()"
   ],
   "metadata": {
    "collapsed": false,
    "ExecuteTime": {
     "end_time": "2024-05-25T03:27:23.449038Z",
     "start_time": "2024-05-25T03:27:15.569436600Z"
    }
   },
   "id": "3bb5deaf076779d1"
  },
  {
   "cell_type": "code",
   "execution_count": 17,
   "outputs": [
    {
     "data": {
      "text/plain": "(16, 1491, 257, 1)"
     },
     "execution_count": 17,
     "metadata": {},
     "output_type": "execute_result"
    }
   ],
   "source": [
    "samples.shape"
   ],
   "metadata": {
    "collapsed": false,
    "ExecuteTime": {
     "end_time": "2024-05-25T03:27:23.473039900Z",
     "start_time": "2024-05-25T03:27:23.451038300Z"
    }
   },
   "id": "fd26d44cb6bf80ca"
  },
  {
   "cell_type": "code",
   "execution_count": 18,
   "outputs": [],
   "source": [
    "from tensorflow.keras.models import Sequential\n",
    "from tensorflow.keras.layers import Conv2D, Dense, Flatten"
   ],
   "metadata": {
    "collapsed": false,
    "ExecuteTime": {
     "end_time": "2024-05-25T03:27:23.561036800Z",
     "start_time": "2024-05-25T03:27:23.469042400Z"
    }
   },
   "id": "d55d2b279b00a9d4"
  },
  {
   "cell_type": "code",
   "execution_count": 19,
   "outputs": [],
   "source": [
    "model = Sequential()\n",
    "model.add(Conv2D(16, (3,3), activation=\"relu\", input_shape=(1491, 257,1)))\n",
    "model.add(Conv2D(16, (3,3), activation=\"relu\"))\n",
    "model.add(Flatten())\n",
    "model.add(Dense(128, activation=\"relu\"))\n",
    "model.add(Dense(1, activation=\"sigmoid\"))"
   ],
   "metadata": {
    "collapsed": false,
    "ExecuteTime": {
     "end_time": "2024-05-25T03:27:29.448404400Z",
     "start_time": "2024-05-25T03:27:23.493052600Z"
    }
   },
   "id": "4633d00998d37519"
  },
  {
   "cell_type": "code",
   "execution_count": 20,
   "outputs": [],
   "source": [
    "model.compile('Adam', loss='BinaryCrossentropy', metrics=[tf.keras.metrics.Recall(),tf.keras.metrics.Precision()])\n"
   ],
   "metadata": {
    "collapsed": false,
    "ExecuteTime": {
     "end_time": "2024-05-25T03:27:29.502414100Z",
     "start_time": "2024-05-25T03:27:29.449409900Z"
    }
   },
   "id": "68146decdf41e228"
  },
  {
   "cell_type": "code",
   "execution_count": 21,
   "outputs": [
    {
     "name": "stdout",
     "output_type": "stream",
     "text": [
      "Model: \"sequential\"\n",
      "_________________________________________________________________\n",
      " Layer (type)                Output Shape              Param #   \n",
      "=================================================================\n",
      " conv2d (Conv2D)             (None, 1489, 255, 16)     160       \n",
      "                                                                 \n",
      " conv2d_1 (Conv2D)           (None, 1487, 253, 16)     2320      \n",
      "                                                                 \n",
      " flatten (Flatten)           (None, 6019376)           0         \n",
      "                                                                 \n",
      " dense (Dense)               (None, 128)               770480256 \n",
      "                                                                 \n",
      " dense_1 (Dense)             (None, 1)                 129       \n",
      "                                                                 \n",
      "=================================================================\n",
      "Total params: 770,482,865\n",
      "Trainable params: 770,482,865\n",
      "Non-trainable params: 0\n",
      "_________________________________________________________________\n"
     ]
    }
   ],
   "source": [
    "model.summary()\n"
   ],
   "metadata": {
    "collapsed": false,
    "ExecuteTime": {
     "end_time": "2024-05-25T03:27:29.615409200Z",
     "start_time": "2024-05-25T03:27:29.502414100Z"
    }
   },
   "id": "715ea68acb393322"
  },
  {
   "cell_type": "code",
   "execution_count": 22,
   "outputs": [
    {
     "name": "stdout",
     "output_type": "stream",
     "text": [
      "36/36 [==============================] - 3615s 102s/step - loss: 0.0191 - recall: 0.9878 - precision: 1.0000 - val_loss: 0.0000e+00 - val_recall: 1.0000 - val_precision: 1.0000\n"
     ]
    }
   ],
   "source": [
    "hist = model.fit(train, epochs=1, validation_data=test)\n"
   ],
   "metadata": {
    "collapsed": false,
    "ExecuteTime": {
     "end_time": "2024-05-25T04:27:44.355877100Z",
     "start_time": "2024-05-25T03:27:29.550405700Z"
    }
   },
   "id": "63333b5b73c23398"
  },
  {
   "cell_type": "code",
   "execution_count": 23,
   "outputs": [
    {
     "data": {
      "text/plain": "<Figure size 640x480 with 1 Axes>",
      "image/png": "[encoded data removed]"
     },
     "metadata": {},
     "output_type": "display_data"
    }
   ],
   "source": [
    "\n",
    "plt.title('Loss')\n",
    "plt.plot(hist.history['loss'], 'r')\n",
    "plt.plot(hist.history['val_loss'], 'b')\n",
    "plt.show()"
   ],
   "metadata": {
    "collapsed": false,
    "ExecuteTime": {
     "end_time": "2024-05-25T06:25:53.803287800Z",
     "start_time": "2024-05-25T06:25:53.467301300Z"
    }
   },
   "id": "f3d78cecfcde0784"
  },
  {
   "cell_type": "code",
   "execution_count": 24,
   "outputs": [
    {
     "data": {
      "text/plain": "<Figure size 640x480 with 1 Axes>",
      "image/png": "[encoded data removed]"
     },
     "metadata": {},
     "output_type": "display_data"
    }
   ],
   "source": [
    "plt.title('Precision')\n",
    "plt.plot(hist.history['precision'], 'r')\n",
    "plt.plot(hist.history['val_precision'], 'b')\n",
    "plt.show()"
   ],
   "metadata": {
    "collapsed": false,
    "ExecuteTime": {
     "end_time": "2024-05-25T06:26:01.579432Z",
     "start_time": "2024-05-25T06:26:01.377453100Z"
    }
   },
   "id": "e7d73862ad822450"
  },
  {
   "cell_type": "code",
   "execution_count": 25,
   "outputs": [
    {
     "data": {
      "text/plain": "<Figure size 640x480 with 1 Axes>",
      "image/png": "[encoded data removed]"
     },
     "metadata": {},
     "output_type": "display_data"
    }
   ],
   "source": [
    "plt.title('Recall')\n",
    "plt.plot(hist.history['recall'], 'r')\n",
    "plt.plot(hist.history['val_recall'], 'b')\n",
    "plt.show()"
   ],
   "metadata": {
    "collapsed": false,
    "ExecuteTime": {
     "end_time": "2024-05-25T06:26:16.650448800Z",
     "start_time": "2024-05-25T06:26:16.425448600Z"
    }
   },
   "id": "8d8283d3629ff2dd"
  },
  {
   "cell_type": "code",
   "execution_count": 26,
   "outputs": [],
   "source": [
    "X_test, y_test = test.as_numpy_iterator().next()\n"
   ],
   "metadata": {
    "collapsed": false,
    "ExecuteTime": {
     "end_time": "2024-05-25T06:26:43.110912500Z",
     "start_time": "2024-05-25T06:26:26.033333400Z"
    }
   },
   "id": "9e35398272e3ac59"
  },
  {
   "cell_type": "code",
   "execution_count": 27,
   "outputs": [
    {
     "name": "stdout",
     "output_type": "stream",
     "text": [
      "1/1 [==============================] - 2s 2s/step\n"
     ]
    }
   ],
   "source": [
    "yhat = model.predict(X_test)\n"
   ],
   "metadata": {
    "collapsed": false,
    "ExecuteTime": {
     "end_time": "2024-05-25T06:26:51.382160500Z",
     "start_time": "2024-05-25T06:26:48.891844400Z"
    }
   },
   "id": "e926604e6b794891"
  },
  {
   "cell_type": "code",
   "execution_count": 28,
   "outputs": [],
   "source": [
    "yhat = [1 if prediction > 0.5 else 0 for prediction in yhat]\n"
   ],
   "metadata": {
    "collapsed": false,
    "ExecuteTime": {
     "end_time": "2024-05-25T06:27:00.197579100Z",
     "start_time": "2024-05-25T06:27:00.154584400Z"
    }
   },
   "id": "f11f6135427754f"
  },
  {
   "cell_type": "code",
   "execution_count": 29,
   "outputs": [
    {
     "data": {
      "text/plain": "[1, 1, 1, 1, 1, 1, 1, 1, 1, 1, 1, 1, 1, 1, 1, 1]"
     },
     "execution_count": 29,
     "metadata": {},
     "output_type": "execute_result"
    }
   ],
   "source": [
    "yhat"
   ],
   "metadata": {
    "collapsed": false,
    "ExecuteTime": {
     "end_time": "2024-05-25T06:27:07.605472400Z",
     "start_time": "2024-05-25T06:27:07.559471200Z"
    }
   },
   "id": "d85b7909ba30c00"
  },
  {
   "cell_type": "code",
   "execution_count": 30,
   "outputs": [],
   "source": [
    "\n",
    "def load_mp3_16k_mono(filename):\n",
    "    res = tfio.audio.AudioIOTensor(filename)\n",
    "    tensor = res.to_tensor()\n",
    "    tensor = tf.math.reduce_sum(tensor, axis=1)/2\n",
    "    \n",
    "    sample_rate = res.rate \n",
    "    sample_rate = tf.cast(sample_rate, dtype=tf.int64)\n",
    "    wav = tfio.audio.resample(tensor, rate_in=sample_rate, rate_out=160000)\n",
    "    return wav\n"
   ],
   "metadata": {
    "collapsed": false,
    "ExecuteTime": {
     "end_time": "2024-05-25T06:37:52.351468200Z",
     "start_time": "2024-05-25T06:37:52.315029Z"
    }
   },
   "id": "c7069a148e7b9267"
  },
  {
   "cell_type": "code",
   "execution_count": 31,
   "outputs": [],
   "source": [
    "wav_file = r\"C:\\dumi\\IP\\fastApiProject1\\sound_.wav\""
   ],
   "metadata": {
    "collapsed": false,
    "ExecuteTime": {
     "end_time": "2024-05-25T06:42:43.722734Z",
     "start_time": "2024-05-25T06:42:43.681886600Z"
    }
   },
   "id": "f0dcbac320333dd0"
  },
  {
   "cell_type": "code",
   "execution_count": 32,
   "outputs": [],
   "source": [
    "wav = load_mp3_16k_mono(wav_file)"
   ],
   "metadata": {
    "collapsed": false,
    "ExecuteTime": {
     "end_time": "2024-05-25T06:42:58.987207300Z",
     "start_time": "2024-05-25T06:42:57.879769500Z"
    }
   },
   "id": "ff5bee43d22970c2"
  },
  {
   "cell_type": "code",
   "execution_count": 35,
   "outputs": [],
   "source": [
    "audio_slices = tf.keras.utils.timeseries_dataset_from_array(wav, wav, sequence_length=48000, sequence_stride=48000, batch_size=1)\n"
   ],
   "metadata": {
    "collapsed": false,
    "ExecuteTime": {
     "end_time": "2024-05-25T06:43:42.407169700Z",
     "start_time": "2024-05-25T06:43:42.300178800Z"
    }
   },
   "id": "99ec1708d70b5833"
  },
  {
   "cell_type": "code",
   "execution_count": 36,
   "outputs": [],
   "source": [
    "samples, index = audio_slices.as_numpy_iterator().next()\n"
   ],
   "metadata": {
    "collapsed": false,
    "ExecuteTime": {
     "end_time": "2024-05-25T06:43:43.485207Z",
     "start_time": "2024-05-25T06:43:43.194820700Z"
    }
   },
   "id": "97e09e98f0332dda"
  },
  {
   "cell_type": "code",
   "execution_count": 36,
   "outputs": [],
   "source": [],
   "metadata": {
    "collapsed": false,
    "ExecuteTime": {
     "end_time": "2024-05-25T06:43:49.807460400Z",
     "start_time": "2024-05-25T06:43:49.774369300Z"
    }
   },
   "id": "544d8db4f7acac2"
  },
  {
   "cell_type": "code",
   "execution_count": 37,
   "outputs": [],
   "source": [
    "def preprocess_mp3(sample, index):\n",
    "    sample = sample[0]\n",
    "    zero_padding = tf.zeros([48000] - tf.shape(sample), dtype=tf.float32)\n",
    "    wav = tf.concat([zero_padding, sample],0)\n",
    "    spectrogram = tf.signal.stft(wav, frame_length=320, frame_step=32)\n",
    "    spectrogram = tf.abs(spectrogram)\n",
    "    spectrogram = tf.expand_dims(spectrogram, axis=2)\n",
    "    return spectrogram"
   ],
   "metadata": {
    "collapsed": false,
    "ExecuteTime": {
     "end_time": "2024-05-25T06:44:03.991527100Z",
     "start_time": "2024-05-25T06:44:03.950197300Z"
    }
   },
   "id": "c865dc787350ea"
  },
  {
   "cell_type": "code",
   "execution_count": 87,
   "outputs": [],
   "source": [
    "audio_slices = tf.keras.utils.timeseries_dataset_from_array(wav, wav, sequence_length=48000, sequence_stride=48000, batch_size=1)\n",
    "audio_slices = audio_slices.map(preprocess_mp3)\n",
    "audio_slices = audio_slices.batch(64)"
   ],
   "metadata": {
    "collapsed": false,
    "ExecuteTime": {
     "end_time": "2024-05-25T07:00:22.093963700Z",
     "start_time": "2024-05-25T07:00:21.906881600Z"
    }
   },
   "id": "f6a03a7e2b3ff287"
  },
  {
   "cell_type": "code",
   "execution_count": 89,
   "outputs": [
    {
     "name": "stdout",
     "output_type": "stream",
     "text": [
      "1/1 [==============================] - 4s 4s/step\n"
     ]
    },
    {
     "data": {
      "text/plain": "[1,\n 1,\n 1,\n 1,\n 1,\n 1,\n 1,\n 1,\n 1,\n 1,\n 1,\n 1,\n 1,\n 1,\n 1,\n 1,\n 1,\n 1,\n 1,\n 1,\n 1,\n 1,\n 1,\n 1,\n 1,\n 1,\n 1,\n 1,\n 1,\n 1,\n 1,\n 1,\n 1,\n 1,\n 1,\n 1,\n 1,\n 1,\n 1,\n 1,\n 1,\n 1,\n 1,\n 1,\n 1,\n 1,\n 1,\n 1,\n 1,\n 1,\n 1,\n 1,\n 1]"
     },
     "execution_count": 89,
     "metadata": {},
     "output_type": "execute_result"
    }
   ],
   "source": [
    "yhat = model.predict(audio_slices)\n",
    "yhat = [1 if prediction > 0.5 else 0 for prediction in yhat]\n",
    "yhat"
   ],
   "metadata": {
    "collapsed": false,
    "ExecuteTime": {
     "end_time": "2024-05-25T07:00:59.428416300Z",
     "start_time": "2024-05-25T07:00:55.204674500Z"
    }
   },
   "id": "fe01ebffe0074988"
  },
  {
   "cell_type": "code",
   "execution_count": 69,
   "outputs": [],
   "source": [
    "from itertools import groupby\n"
   ],
   "metadata": {
    "collapsed": false,
    "ExecuteTime": {
     "end_time": "2024-05-25T06:57:58.169272Z",
     "start_time": "2024-05-25T06:57:58.139274500Z"
    }
   },
   "id": "ad5cd8b617337656"
  },
  {
   "cell_type": "code",
   "execution_count": 91,
   "outputs": [
    {
     "data": {
      "text/plain": "[1]"
     },
     "execution_count": 91,
     "metadata": {},
     "output_type": "execute_result"
    }
   ],
   "source": [
    "yhat = [key for key, group in groupby(yhat)]\n",
    "calls = tf.math.reduce_sum(yhat).numpy()\n",
    "yhat\n"
   ],
   "metadata": {
    "collapsed": false,
    "ExecuteTime": {
     "end_time": "2024-05-25T07:02:19.478911800Z",
     "start_time": "2024-05-25T07:02:19.366365500Z"
    }
   },
   "id": "e5b103c9e6aa547b"
  },
  {
   "cell_type": "code",
   "execution_count": 85,
   "outputs": [
    {
     "data": {
      "text/plain": "1.0"
     },
     "execution_count": 85,
     "metadata": {},
     "output_type": "execute_result"
    }
   ],
   "source": [
    "calls\n"
   ],
   "metadata": {
    "collapsed": false,
    "ExecuteTime": {
     "end_time": "2024-05-25T07:00:08.068222400Z",
     "start_time": "2024-05-25T07:00:08.020600200Z"
    }
   },
   "id": "e571681599656535"
  },
  {
   "cell_type": "code",
   "execution_count": 86,
   "outputs": [
    {
     "name": "stdout",
     "output_type": "stream",
     "text": [
      "1/1 [==============================] - 4s 4s/step\n"
     ]
    }
   ],
   "source": [
    "results = {}\n",
    "for file in os.listdir(os.path.join('..', 'sounds', 'recordings')):\n",
    "    FILEPATH = os.path.join('..', 'sounds', 'recordings', file)\n",
    "    \n",
    "    wav = load_mp3_16k_mono(FILEPATH)\n",
    "    audio_slices = tf.keras.utils.timeseries_dataset_from_array(wav, wav, sequence_length=48000, sequence_stride=48000, batch_size=1)\n",
    "    audio_slices = audio_slices.map(preprocess_mp3)\n",
    "    audio_slices = audio_slices.batch(64)\n",
    "    \n",
    "    yhat = model.predict(audio_slices)\n",
    "    \n",
    "    results[file] = yhat"
   ],
   "metadata": {
    "collapsed": false,
    "ExecuteTime": {
     "end_time": "2024-05-25T07:00:13.580827500Z",
     "start_time": "2024-05-25T07:00:08.571429100Z"
    }
   },
   "id": "ef02e2efbb87bffd"
  },
  {
   "cell_type": "code",
   "execution_count": 73,
   "outputs": [
    {
     "data": {
      "text/plain": "{'sound_.wav': array([[1.],\n        [1.],\n        [1.],\n        [1.],\n        [1.],\n        [1.],\n        [1.],\n        [1.],\n        [1.],\n        [1.],\n        [1.],\n        [1.],\n        [1.],\n        [1.],\n        [1.],\n        [1.],\n        [1.],\n        [1.],\n        [1.],\n        [1.],\n        [1.],\n        [1.],\n        [1.],\n        [1.],\n        [1.],\n        [1.],\n        [1.],\n        [1.],\n        [1.],\n        [1.],\n        [1.],\n        [1.],\n        [1.],\n        [1.],\n        [1.],\n        [1.],\n        [1.],\n        [1.],\n        [1.],\n        [1.],\n        [1.],\n        [1.],\n        [1.],\n        [1.],\n        [1.],\n        [1.],\n        [1.],\n        [1.],\n        [1.],\n        [1.],\n        [1.],\n        [1.],\n        [1.]], dtype=float32)}"
     },
     "execution_count": 73,
     "metadata": {},
     "output_type": "execute_result"
    }
   ],
   "source": [
    "results\n"
   ],
   "metadata": {
    "collapsed": false,
    "ExecuteTime": {
     "end_time": "2024-05-25T06:58:05.914070800Z",
     "start_time": "2024-05-25T06:58:05.827545600Z"
    }
   },
   "id": "4e881b56a30629eb"
  },
  {
   "cell_type": "code",
   "execution_count": 73,
   "outputs": [],
   "source": [],
   "metadata": {
    "collapsed": false,
    "ExecuteTime": {
     "end_time": "2024-05-25T06:58:06.224675300Z",
     "start_time": "2024-05-25T06:58:06.194682700Z"
    }
   },
   "id": "89565d5d596a8691"
  },
  {
   "cell_type": "code",
   "execution_count": 79,
   "outputs": [
    {
     "name": "stdout",
     "output_type": "stream",
     "text": [
      "dict_items([('sound_.wav', array([[1.],\n",
      "       [1.],\n",
      "       [1.],\n",
      "       [1.],\n",
      "       [1.],\n",
      "       [1.],\n",
      "       [1.],\n",
      "       [1.],\n",
      "       [1.],\n",
      "       [1.],\n",
      "       [1.],\n",
      "       [1.],\n",
      "       [1.],\n",
      "       [1.],\n",
      "       [1.],\n",
      "       [1.],\n",
      "       [1.],\n",
      "       [1.],\n",
      "       [1.],\n",
      "       [1.],\n",
      "       [1.],\n",
      "       [1.],\n",
      "       [1.],\n",
      "       [1.],\n",
      "       [1.],\n",
      "       [1.],\n",
      "       [1.],\n",
      "       [1.],\n",
      "       [1.],\n",
      "       [1.],\n",
      "       [1.],\n",
      "       [1.],\n",
      "       [1.],\n",
      "       [1.],\n",
      "       [1.],\n",
      "       [1.],\n",
      "       [1.],\n",
      "       [1.],\n",
      "       [1.],\n",
      "       [1.],\n",
      "       [1.],\n",
      "       [1.],\n",
      "       [1.],\n",
      "       [1.],\n",
      "       [1.],\n",
      "       [1.],\n",
      "       [1.],\n",
      "       [1.],\n",
      "       [1.],\n",
      "       [1.],\n",
      "       [1.],\n",
      "       [1.],\n",
      "       [1.]], dtype=float32))])\n"
     ]
    }
   ],
   "source": [
    "class_preds = {}\n",
    "print(results.items())\n",
    "for file, logits in results.items():\n",
    "    class_preds[file] = [1 if prediction > 0.5 else 0 for prediction in logits]\n",
    "    \n"
   ],
   "metadata": {
    "collapsed": false,
    "ExecuteTime": {
     "end_time": "2024-05-25T06:59:30.827862700Z",
     "start_time": "2024-05-25T06:59:30.794299900Z"
    }
   },
   "id": "a4c348edfbb66c06"
  },
  {
   "cell_type": "code",
   "execution_count": 80,
   "outputs": [
    {
     "data": {
      "text/plain": "53"
     },
     "execution_count": 80,
     "metadata": {},
     "output_type": "execute_result"
    }
   ],
   "source": [
    "len(class_preds['sound_.wav'])"
   ],
   "metadata": {
    "collapsed": false,
    "ExecuteTime": {
     "end_time": "2024-05-25T06:59:31.980840600Z",
     "start_time": "2024-05-25T06:59:31.901000200Z"
    }
   },
   "id": "2424befd6830ee54"
  },
  {
   "cell_type": "code",
   "execution_count": 81,
   "outputs": [
    {
     "data": {
      "text/plain": "{'sound_.wav': 1}"
     },
     "execution_count": 81,
     "metadata": {},
     "output_type": "execute_result"
    }
   ],
   "source": [
    "postprocessed = {}\n",
    "for file, scores in class_preds.items():\n",
    "    postprocessed[file] = tf.math.reduce_sum([key for key, group in groupby(scores)]).numpy()\n",
    "postprocessed"
   ],
   "metadata": {
    "collapsed": false,
    "ExecuteTime": {
     "end_time": "2024-05-25T06:59:32.686982700Z",
     "start_time": "2024-05-25T06:59:32.641325200Z"
    }
   },
   "id": "1b489f861c247522"
  },
  {
   "cell_type": "code",
   "execution_count": 82,
   "outputs": [],
   "source": [
    "import csv\n"
   ],
   "metadata": {
    "collapsed": false,
    "ExecuteTime": {
     "end_time": "2024-05-25T06:59:33.914088200Z",
     "start_time": "2024-05-25T06:59:33.871197600Z"
    }
   },
   "id": "656010ccca52cc78"
  },
  {
   "cell_type": "code",
   "execution_count": 83,
   "outputs": [],
   "source": [
    "with open('results.csv', 'w', newline='') as f:\n",
    "    writer = csv.writer(f, delimiter=',')\n",
    "    writer.writerow(['recording', 'house_sparrow_calls'])\n",
    "    for key, value in postprocessed.items():\n",
    "        writer.writerow([key, value])"
   ],
   "metadata": {
    "collapsed": false,
    "ExecuteTime": {
     "end_time": "2024-05-25T06:59:34.287486900Z",
     "start_time": "2024-05-25T06:59:34.257836300Z"
    }
   },
   "id": "5841fb09f0abeedf"
  },
  {
   "cell_type": "code",
   "execution_count": null,
   "outputs": [],
   "source": [],
   "metadata": {
    "collapsed": false
   },
   "id": "ca427748b6232a1"
  }
 ],
 "metadata": {
  "kernelspec": {
   "display_name": "Python 3",
   "language": "python",
   "name": "python3"
  },
  "language_info": {
   "codemirror_mode": {
    "name": "ipython",
    "version": 2
   },
   "file_extension": ".py",
   "mimetype": "text/x-python",
   "name": "python",
   "nbconvert_exporter": "python",
   "pygments_lexer": "ipython2",
   "version": "2.7.6"
  }
 },
 "nbformat": 4,
 "nbformat_minor": 5
}
